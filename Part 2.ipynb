{
 "cells": [
  {
   "cell_type": "code",
   "execution_count": 5,
   "id": "3fd89ba6",
   "metadata": {},
   "outputs": [],
   "source": [
    "import pandas as pd\n",
    "\n",
    "df = pd.read_csv('C:/Users/Toluwanimi.Oderinde/Documents/tweets.csv')\n"
   ]
  },
  {
   "cell_type": "code",
   "execution_count": 6,
   "id": "d8c9805e",
   "metadata": {},
   "outputs": [
    {
     "data": {
      "text/html": [
       "<div>\n",
       "<style scoped>\n",
       "    .dataframe tbody tr th:only-of-type {\n",
       "        vertical-align: middle;\n",
       "    }\n",
       "\n",
       "    .dataframe tbody tr th {\n",
       "        vertical-align: top;\n",
       "    }\n",
       "\n",
       "    .dataframe thead th {\n",
       "        text-align: right;\n",
       "    }\n",
       "</style>\n",
       "<table border=\"1\" class=\"dataframe\">\n",
       "  <thead>\n",
       "    <tr style=\"text-align: right;\">\n",
       "      <th></th>\n",
       "      <th>Tweets</th>\n",
       "      <th>Retweets</th>\n",
       "      <th>Likes</th>\n",
       "      <th>Date</th>\n",
       "    </tr>\n",
       "  </thead>\n",
       "  <tbody>\n",
       "    <tr>\n",
       "      <th>3050</th>\n",
       "      <td>@cybrtrkguy Vote them out</td>\n",
       "      <td>7712</td>\n",
       "      <td>68748</td>\n",
       "      <td>1/27/2022 23:41</td>\n",
       "    </tr>\n",
       "    <tr>\n",
       "      <th>3051</th>\n",
       "      <td>If you scare people enough, they will demand r...</td>\n",
       "      <td>119804</td>\n",
       "      <td>543466</td>\n",
       "      <td>1/27/2022 23:39</td>\n",
       "    </tr>\n",
       "    <tr>\n",
       "      <th>3052</th>\n",
       "      <td>Seems odd that the UN still hasn’t released 20...</td>\n",
       "      <td>32799</td>\n",
       "      <td>262118</td>\n",
       "      <td>1/27/2022 22:24</td>\n",
       "    </tr>\n",
       "    <tr>\n",
       "      <th>3053</th>\n",
       "      <td>@jayvasdigital Freedom is being stripped away ...</td>\n",
       "      <td>12348</td>\n",
       "      <td>63170</td>\n",
       "      <td>1/27/2022 22:05</td>\n",
       "    </tr>\n",
       "    <tr>\n",
       "      <th>3054</th>\n",
       "      <td>@LimitingThe @baglino Manganese also requires ...</td>\n",
       "      <td>128</td>\n",
       "      <td>2543</td>\n",
       "      <td>1/27/2022 22:03</td>\n",
       "    </tr>\n",
       "    <tr>\n",
       "      <th>3055</th>\n",
       "      <td>@LimitingThe @baglino Just that manganese is a...</td>\n",
       "      <td>171</td>\n",
       "      <td>3173</td>\n",
       "      <td>1/27/2022 22:01</td>\n",
       "    </tr>\n",
       "    <tr>\n",
       "      <th>3056</th>\n",
       "      <td>@incentives101 @ICRicardoLara Exactly</td>\n",
       "      <td>145</td>\n",
       "      <td>4234</td>\n",
       "      <td>1/27/2022 21:23</td>\n",
       "    </tr>\n",
       "    <tr>\n",
       "      <th>3057</th>\n",
       "      <td>@ICRicardoLara Your policies are directly resp...</td>\n",
       "      <td>421</td>\n",
       "      <td>6144</td>\n",
       "      <td>1/27/2022 21:13</td>\n",
       "    </tr>\n",
       "    <tr>\n",
       "      <th>3058</th>\n",
       "      <td>@ICRicardoLara You should be voted out of office</td>\n",
       "      <td>484</td>\n",
       "      <td>7029</td>\n",
       "      <td>1/27/2022 21:12</td>\n",
       "    </tr>\n",
       "    <tr>\n",
       "      <th>3059</th>\n",
       "      <td>CB radios are free from govt/media control</td>\n",
       "      <td>11302</td>\n",
       "      <td>113429</td>\n",
       "      <td>1/27/2022 21:00</td>\n",
       "    </tr>\n",
       "  </tbody>\n",
       "</table>\n",
       "</div>"
      ],
      "text/plain": [
       "                                                 Tweets  Retweets   Likes  \\\n",
       "3050                          @cybrtrkguy Vote them out      7712   68748   \n",
       "3051  If you scare people enough, they will demand r...    119804  543466   \n",
       "3052  Seems odd that the UN still hasn’t released 20...     32799  262118   \n",
       "3053  @jayvasdigital Freedom is being stripped away ...     12348   63170   \n",
       "3054  @LimitingThe @baglino Manganese also requires ...       128    2543   \n",
       "3055  @LimitingThe @baglino Just that manganese is a...       171    3173   \n",
       "3056              @incentives101 @ICRicardoLara Exactly       145    4234   \n",
       "3057  @ICRicardoLara Your policies are directly resp...       421    6144   \n",
       "3058   @ICRicardoLara You should be voted out of office       484    7029   \n",
       "3059         CB radios are free from govt/media control     11302  113429   \n",
       "\n",
       "                 Date  \n",
       "3050  1/27/2022 23:41  \n",
       "3051  1/27/2022 23:39  \n",
       "3052  1/27/2022 22:24  \n",
       "3053  1/27/2022 22:05  \n",
       "3054  1/27/2022 22:03  \n",
       "3055  1/27/2022 22:01  \n",
       "3056  1/27/2022 21:23  \n",
       "3057  1/27/2022 21:13  \n",
       "3058  1/27/2022 21:12  \n",
       "3059  1/27/2022 21:00  "
      ]
     },
     "execution_count": 6,
     "metadata": {},
     "output_type": "execute_result"
    }
   ],
   "source": [
    "df.tail(10)\n"
   ]
  },
  {
   "cell_type": "code",
   "execution_count": 5,
   "id": "20dd165c",
   "metadata": {},
   "outputs": [],
   "source": [
    "import re\n",
    "\n",
    "df['cleaned_tweet'] = df['Tweets'].apply(lambda x: re.sub(r'http\\S+', '', x))\n"
   ]
  },
  {
   "cell_type": "code",
   "execution_count": 7,
   "id": "330357ac",
   "metadata": {},
   "outputs": [
    {
     "ename": "ModuleNotFoundError",
     "evalue": "No module named 'textblob'",
     "output_type": "error",
     "traceback": [
      "\u001b[1;31m---------------------------------------------------------------------------\u001b[0m",
      "\u001b[1;31mModuleNotFoundError\u001b[0m                       Traceback (most recent call last)",
      "Cell \u001b[1;32mIn[7], line 1\u001b[0m\n\u001b[1;32m----> 1\u001b[0m \u001b[38;5;28;01mimport\u001b[39;00m \u001b[38;5;21;01mtextblob\u001b[39;00m\n\u001b[0;32m      2\u001b[0m \u001b[38;5;28;01mfrom\u001b[39;00m \u001b[38;5;21;01mtextblob\u001b[39;00m \u001b[38;5;28;01mimport\u001b[39;00m Textblob\n\u001b[0;32m      4\u001b[0m \u001b[38;5;28;01mimport\u001b[39;00m \u001b[38;5;21;01mnltk\u001b[39;00m\n",
      "\u001b[1;31mModuleNotFoundError\u001b[0m: No module named 'textblob'"
     ]
    }
   ],
   "source": [
    "import textblob\n",
    "from textblob import Textblob\n",
    "\n",
    "import nltk\n",
    "nltk.download('stopwords')\n",
    "from nltk.corpus import stopwords\n",
    "\n",
    "stop_words = set(stopwords.words('english'))\n",
    "\n",
    "df['cleaned_tweet'] = df['cleaned_tweet'].apply(lambda x: ' '.join([word for word in x.split() if word.lower() not in stop_words]))\n"
   ]
  },
  {
   "cell_type": "code",
   "execution_count": 29,
   "id": "7c55b856",
   "metadata": {},
   "outputs": [],
   "source": [
    "df['cleaned_tweet'] = df['cleaned_tweet'].apply(lambda x: re.sub(r'@\\w+', '', x))\n"
   ]
  },
  {
   "cell_type": "code",
   "execution_count": 20,
   "id": "56a4cf5c",
   "metadata": {},
   "outputs": [],
   "source": [
    "df['cleaned_tweet'] = df['cleaned_tweet'].apply(lambda x: re.sub(r'#\\w+', '', x))\n"
   ]
  },
  {
   "cell_type": "code",
   "execution_count": 21,
   "id": "561ee16b",
   "metadata": {},
   "outputs": [],
   "source": [
    "df['cleaned_tweet'] = df['cleaned_tweet'].apply(lambda x: re.sub(r'[^\\w\\s]', '', x))\n"
   ]
  },
  {
   "cell_type": "code",
   "execution_count": 22,
   "id": "1ee3ce66",
   "metadata": {},
   "outputs": [],
   "source": [
    "df['cleaned_tweet'] = df['cleaned_tweet'].apply(lambda x: re.sub(r'\\bRT\\b', '', x))\n"
   ]
  },
  {
   "cell_type": "code",
   "execution_count": 23,
   "id": "24e001d7",
   "metadata": {},
   "outputs": [],
   "source": [
    "df['cleaned_tweet'] = df['cleaned_tweet'].apply(lambda x: x.encode('ascii', 'ignore').decode('ascii'))\n"
   ]
  },
  {
   "cell_type": "code",
   "execution_count": 24,
   "id": "eda141b0",
   "metadata": {},
   "outputs": [],
   "source": [
    "df['cleaned_tweet'] = df['cleaned_tweet'].apply(lambda x: x.strip())\n"
   ]
  },
  {
   "cell_type": "code",
   "execution_count": null,
   "id": "5211d66a",
   "metadata": {},
   "outputs": [],
   "source": [
    "from textblob import Word\n",
    "\n",
    "df['cleaned_tweet'] = df['cleaned_tweet'].apply(lambda x: ' '.join([Word(word).lemmatize() for word in x.split()]))\n"
   ]
  },
  {
   "cell_type": "code",
   "execution_count": 32,
   "id": "244fb892",
   "metadata": {},
   "outputs": [
    {
     "name": "stdout",
     "output_type": "stream",
     "text": [
      "Task 12: Store the cleaned tweet in a new column called tweet cleaned.Already done in previous tasks by adding the cleaned_tweet column.\n"
     ]
    }
   ],
   "source": [
    "print ('Task 12: Store the cleaned tweet in a new column called tweet cleaned.Already done in previous tasks by adding the cleaned_tweet column.')"
   ]
  },
  {
   "cell_type": "code",
   "execution_count": 37,
   "id": "b22c19af",
   "metadata": {},
   "outputs": [
    {
     "name": "stdout",
     "output_type": "stream",
     "text": [
      "a. There are several reasons why we might or might not manually annotate our whole dataset:\n",
      "Reasons to manually annotate:It allows for greater accuracy in classifying text as positive, negative, or neutral.It can help improve the performance of machine learning models that use the annotated data as training data.It allows for greater control over the dataset and the labeling process.Reasons not to manually annotate:It can be time-consuming and expensive, especially for large datasets.It can be subjective and prone to human error or bias, leading to inconsistencies in labeling.It may not be feasible for certain types of data, such as real-time or streaming data.(b) Alternative ways to classify text into categories could include:Using existing labeled datasets that have been previously annotated by humans.Using machine learning algorithms to automatically classify text based on patterns and features in the data.Using a combination of both manual annotation and machine learning algorithms to improve accuracy and consistency.\n"
     ]
    }
   ],
   "source": [
    "print ('a. There are several reasons why we might or might not manually annotate our whole dataset:\\nReasons to manually annotate:'\n",
    "\n",
    "'It allows for greater accuracy in classifying text as positive, negative, or neutral.'\n",
    "'It can help improve the performance of machine learning models that use the annotated data as training data.'\n",
    "'It allows for greater control over the dataset and the labeling process.'\n",
    "'Reasons not to manually annotate:'\n",
    "\n",
    "'It can be time-consuming and expensive, especially for large datasets.'\n",
    "'It can be subjective and prone to human error or bias, leading to inconsistencies in labeling.'\n",
    "'It may not be feasible for certain types of data, such as real-time or streaming data.'\n",
    "'(b) Alternative ways to classify text into categories could include:'\n",
    "\n",
    "'Using existing labeled datasets that have been previously annotated by humans.'\n",
    "'Using machine learning algorithms to automatically classify text based on patterns and features in the data.'\n",
    "'Using a combination of both manual annotation and machine learning algorithms to improve accuracy and consistency.')"
   ]
  },
  {
   "cell_type": "code",
   "execution_count": null,
   "id": "79ed2e16",
   "metadata": {},
   "outputs": [],
   "source": []
  }
 ],
 "metadata": {
  "kernelspec": {
   "display_name": "Python 3 (ipykernel)",
   "language": "python",
   "name": "python3"
  },
  "language_info": {
   "codemirror_mode": {
    "name": "ipython",
    "version": 3
   },
   "file_extension": ".py",
   "mimetype": "text/x-python",
   "name": "python",
   "nbconvert_exporter": "python",
   "pygments_lexer": "ipython3",
   "version": "3.10.9"
  }
 },
 "nbformat": 4,
 "nbformat_minor": 5
}
